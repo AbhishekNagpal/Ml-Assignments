{
 "cells": [
  {
   "cell_type": "markdown",
   "metadata": {},
   "source": [
    "Q1). What are the key tasks involved in getting ready to work with machine learning modeling?"
   ]
  },
  {
   "cell_type": "markdown",
   "metadata": {},
   "source": [
    "1.Collecting Data\n",
    "2.Preparing Data\n",
    "3.Choosing Model\n",
    "4.Training Model\n",
    "5.Evaluation\n",
    "6.HyperParameter Tuning\n",
    "7.Predictions"
   ]
  },
  {
   "cell_type": "markdown",
   "metadata": {},
   "source": [
    "Q2). What are the different forms of data used in machine learning? Give a specific example for each of them."
   ]
  },
  {
   "cell_type": "markdown",
   "metadata": {},
   "source": [
    "We use many type of data\n",
    "1). Numerical data (in this the dependent feature have numerical values ex-house price data)\n",
    "2). Categorical data (in this the dependent feature have categories ex-iris dataset)\n",
    "3). Time series data(in this time is included in the data ex- stock price dataset)\n",
    "4). Text data(data is in the form of text)"
   ]
  },
  {
   "cell_type": "markdown",
   "metadata": {},
   "source": [
    "Q3). Numeric vs. categorical attributes"
   ]
  },
  {
   "cell_type": "markdown",
   "metadata": {},
   "source": [
    "Numeric Attributes are the columns which contains the integer or float values or simply we can numerical values, they are also known as continuous attributes .ex weight-34.2kg,88.9 kg.\n",
    "\n",
    "\n",
    "Categorical attributes are basiccaly the attributes which belong to some categories and they are limited in number. Ex category of flower-rose, sunflower etc."
   ]
  },
  {
   "cell_type": "markdown",
   "metadata": {},
   "source": [
    "Q4). Make quick notes on any two of the following:"
   ]
  },
  {
   "cell_type": "markdown",
   "metadata": {},
   "source": [
    "1. The histogram"
   ]
  },
  {
   "cell_type": "markdown",
   "metadata": {},
   "source": [
    "A histogram is a graph that shows the frequency of numerical data using rectangles."
   ]
  },
  {
   "cell_type": "markdown",
   "metadata": {},
   "source": [
    "2. Use a scatter plot"
   ]
  },
  {
   "cell_type": "markdown",
   "metadata": {},
   "source": [
    "Scatter plots' primary uses are to observe and show relationships between two numeric variables."
   ]
  },
  {
   "cell_type": "markdown",
   "metadata": {},
   "source": [
    "Q5). Why is it necessary to investigate data? Is there a discrepancy in how qualitative and quantitative data are explored?"
   ]
  },
  {
   "cell_type": "markdown",
   "metadata": {},
   "source": [
    "It is better to investigate the data, as it helps in getting better results. It gives the idea, that how it should be solved and can give the best possible results."
   ]
  },
  {
   "cell_type": "markdown",
   "metadata": {},
   "source": [
    "Q6). What are the various histogram shapes? What exactly are 'bins'?"
   ]
  },
  {
   "cell_type": "markdown",
   "metadata": {},
   "source": [
    "1. Bell shaped\n",
    "2. Bimodal shaped Bins is the size of the frequency shown in the histograms."
   ]
  },
  {
   "cell_type": "markdown",
   "metadata": {},
   "source": [
    "Q7). How do we deal with data outliers?"
   ]
  },
  {
   "cell_type": "markdown",
   "metadata": {},
   "source": [
    "1. Boxplot\n",
    "2. Gaussian Distribution"
   ]
  },
  {
   "cell_type": "markdown",
   "metadata": {},
   "source": [
    "Q8). What are the various central inclination measures? Why does mean vary too much from median in certain data sets?"
   ]
  },
  {
   "cell_type": "markdown",
   "metadata": {},
   "source": [
    "This is because if the outliers, as the mean is calculated by summing all the data points and then dividing it by the number of total data points so if a large value occurs it afeects a lot. But in case of median it does not affect."
   ]
  },
  {
   "cell_type": "markdown",
   "metadata": {},
   "source": [
    "Q9). Describe how a scatter plot can be used to investigate bivariate relationships. Is it possible to find outliers using a scatter plot?"
   ]
  },
  {
   "cell_type": "markdown",
   "metadata": {},
   "source": [
    "A scatter plot is the graphic representation of the relationship between the two variables coming from a bivariate data set.\n",
    "Think of them as the graphic representation of two data sets which have been put into place by dedicating each axis in the plot to a different variable."
   ]
  },
  {
   "cell_type": "markdown",
   "metadata": {},
   "source": [
    "Q10). Describe how cross-tabs can be used to figure out how two variables are related."
   ]
  },
  {
   "cell_type": "markdown",
   "metadata": {},
   "source": [
    "In a cross-tab, the categories of one variable determine the rows of the table, and the categories of the other variable determine the columns"
   ]
  },
  {
   "cell_type": "code",
   "execution_count": null,
   "metadata": {},
   "outputs": [],
   "source": []
  }
 ],
 "metadata": {
  "kernelspec": {
   "display_name": "Python 3",
   "language": "python",
   "name": "python3"
  },
  "language_info": {
   "codemirror_mode": {
    "name": "ipython",
    "version": 3
   },
   "file_extension": ".py",
   "mimetype": "text/x-python",
   "name": "python",
   "nbconvert_exporter": "python",
   "pygments_lexer": "ipython3",
   "version": "3.8.5"
  }
 },
 "nbformat": 4,
 "nbformat_minor": 4
}
