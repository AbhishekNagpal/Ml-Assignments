{
 "cells": [
  {
   "cell_type": "markdown",
   "metadata": {},
   "source": [
    "Q1). What is the concept of human learning? Please give two examples."
   ]
  },
  {
   "cell_type": "markdown",
   "metadata": {},
   "source": [
    "Human learning is a process of understanding or adapting skills to perform a specific task.\n",
    "Ex. Cooking,Driving."
   ]
  },
  {
   "cell_type": "markdown",
   "metadata": {},
   "source": [
    "Q2).What different forms of human learning are there? Are there any machine learning\n",
    "equivalents?"
   ]
  },
  {
   "cell_type": "markdown",
   "metadata": {},
   "source": [
    "Learning through association - Classical Conditioning.\n",
    "Learning through consequences – Operant Conditioning.\n",
    "Learning through observation – Modeling/Observational Learning."
   ]
  },
  {
   "cell_type": "markdown",
   "metadata": {},
   "source": [
    "Q3). What is machine learning, and how does it work? What are the key responsibilities of machine\n",
    "learning?"
   ]
  },
  {
   "cell_type": "markdown",
   "metadata": {},
   "source": [
    "Machine Learning is the study of algorithms to improve performance (P) at some task (T) with\n",
    "experience (E)."
   ]
  },
  {
   "cell_type": "markdown",
   "metadata": {},
   "source": [
    "Q4). Define the terms 'penalty' and 'reward' in the context of reinforcement learning."
   ]
  },
  {
   "cell_type": "markdown",
   "metadata": {},
   "source": [
    "Reinforcement learning is an agent based learning in which an agent tries to perform some task\n",
    "and after performing if it works good and give better results it tries to reward the agent. \n",
    "Otherwise if it is not performed well than the previous step then it has to take the penalty."
   ]
  },
  {
   "cell_type": "markdown",
   "metadata": {},
   "source": [
    "Q5). Explain the term 'learning as a search'?"
   ]
  },
  {
   "cell_type": "markdown",
   "metadata": {},
   "source": [
    " Learning can be viewed as a search through the space of all sentences in a concept description language for a sentence that best describes the data."
   ]
  },
  {
   "cell_type": "markdown",
   "metadata": {},
   "source": [
    "Q6). What are the various goals of machine learning? What is the relationship between these and\n",
    "human learning?"
   ]
  },
  {
   "cell_type": "markdown",
   "metadata": {},
   "source": [
    "Machine learning is used to train models using data so that they can predict output at a \n",
    "good accuracy.\n",
    "Both Machine Learning and human Learning requires experience , human get it directly but in\n",
    "Machine learning it has to gain from the data."
   ]
  },
  {
   "cell_type": "markdown",
   "metadata": {},
   "source": [
    "Q7). Illustrate the various elements of machine learning using a real-life illustration."
   ]
  },
  {
   "cell_type": "markdown",
   "metadata": {},
   "source": [
    "1. Representation\n",
    "2. Evaluation\n",
    "3. Optimization\n",
    "ex let us have an example of house prediction model , so it is necessary to first represent\n",
    "the data and information collected through model, after that try to find the best model\n",
    "and then try to optimize that model."
   ]
  },
  {
   "cell_type": "markdown",
   "metadata": {},
   "source": [
    "Q8). Provide an example of the abstraction method."
   ]
  },
  {
   "cell_type": "markdown",
   "metadata": {},
   "source": [
    "Example of Ecommerce site, for example if a company have more customers which means that it \n",
    "have more data, means that they can increase their accuracy of models\n"
   ]
  },
  {
   "cell_type": "markdown",
   "metadata": {},
   "source": [
    "Q9).What is the concept of generalization? What function does it play in the machine learning\n",
    "process?\\t\n",
    "What is classification, exactly? What are the main distinctions between classification and regression?"
   ]
  },
  {
   "cell_type": "markdown",
   "metadata": {},
   "source": [
    "Generalization refers to the ability of a model to adapt new data\n",
    "\n",
    "Classification is basically finding that a product belongs to which category.\n",
    "In classification we work for categorical data but in Regression we work on continuous values."
   ]
  },
  {
   "cell_type": "markdown",
   "metadata": {},
   "source": [
    "Q11). What is regression, and how does it work? Give an example of a real-world problem that was\n",
    "solved using regression."
   ]
  },
  {
   "cell_type": "markdown",
   "metadata": {},
   "source": [
    "Regression is basically used to deal with the problems which have continuous variable as \n",
    "the target variable. Ex - Car price predictor."
   ]
  },
  {
   "cell_type": "markdown",
   "metadata": {},
   "source": [
    "Q12). Describe the clustering mechanism in detail."
   ]
  },
  {
   "cell_type": "markdown",
   "metadata": {},
   "source": [
    "In clustering we try to make different clusters using the unlabelled data and when we try \n",
    "to predict we check the dimensions of the test data and then on the basis of that we try to\n",
    "show the output."
   ]
  }
 ],
 "metadata": {
  "kernelspec": {
   "display_name": "Python 3",
   "language": "python",
   "name": "python3"
  },
  "language_info": {
   "codemirror_mode": {
    "name": "ipython",
    "version": 3
   },
   "file_extension": ".py",
   "mimetype": "text/x-python",
   "name": "python",
   "nbconvert_exporter": "python",
   "pygments_lexer": "ipython3",
   "version": "3.8.5"
  }
 },
 "nbformat": 4,
 "nbformat_minor": 4
}
